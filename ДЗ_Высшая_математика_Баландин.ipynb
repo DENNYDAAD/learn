{
  "nbformat": 4,
  "nbformat_minor": 0,
  "metadata": {
    "colab": {
      "provenance": []
    },
    "kernelspec": {
      "name": "python3",
      "display_name": "Python 3"
    },
    "language_info": {
      "name": "python"
    }
  },
  "cells": [
    {
      "cell_type": "code",
      "execution_count": null,
      "metadata": {
        "id": "9wTaHEWF5hUr"
      },
      "outputs": [],
      "source": [
        "import numpy as np"
      ]
    },
    {
      "cell_type": "code",
      "source": [
        "##Задача 1.\n",
        "A = np.matrix([6, -8, 3])\n",
        "B = np.matrix([[1], [1], [4]])"
      ],
      "metadata": {
        "id": "NNtOnJx19Wlg"
      },
      "execution_count": null,
      "outputs": []
    },
    {
      "cell_type": "code",
      "source": [
        "A * B"
      ],
      "metadata": {
        "colab": {
          "base_uri": "https://localhost:8080/"
        },
        "id": "kMDvpeuO9Yg7",
        "outputId": "4c7f3568-a3d9-4602-9f1a-284aa24d1a3f"
      },
      "execution_count": null,
      "outputs": [
        {
          "output_type": "execute_result",
          "data": {
            "text/plain": [
              "matrix([[10]])"
            ]
          },
          "metadata": {},
          "execution_count": 3
        }
      ]
    },
    {
      "cell_type": "code",
      "source": [
        "##Задача 2.\n",
        "A = np.matrix([[-3, -7], [-10, 6], [0, -6], [-1, -3]])\n",
        "B = np.matrix([[-8, 9], [4, -2]])"
      ],
      "metadata": {
        "id": "AAkqppm2-J-b"
      },
      "execution_count": null,
      "outputs": []
    },
    {
      "cell_type": "code",
      "source": [
        "A * B"
      ],
      "metadata": {
        "colab": {
          "base_uri": "https://localhost:8080/"
        },
        "id": "_lAmdtUk-KJw",
        "outputId": "ecdf0ead-2b6a-465d-9b6c-33bf5a463fd6"
      },
      "execution_count": null,
      "outputs": [
        {
          "output_type": "execute_result",
          "data": {
            "text/plain": [
              "matrix([[  -4,  -13],\n",
              "        [ 104, -102],\n",
              "        [ -24,   12],\n",
              "        [  -4,   -3]])"
            ]
          },
          "metadata": {},
          "execution_count": 5
        }
      ]
    }
  ]
}