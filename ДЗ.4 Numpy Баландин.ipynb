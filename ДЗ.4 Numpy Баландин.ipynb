{
 "cells": [
  {
   "cell_type": "code",
   "execution_count": 3,
   "id": "c67278e5",
   "metadata": {},
   "outputs": [],
   "source": [
    "#импорт библиотеки\n",
    "import numpy as np"
   ]
  },
  {
   "cell_type": "markdown",
   "id": "3010aed0",
   "metadata": {},
   "source": [
    "Задание 1."
   ]
  },
  {
   "cell_type": "code",
   "execution_count": 12,
   "id": "a261445a",
   "metadata": {},
   "outputs": [],
   "source": [
    "# Создаем 3 матрицы по условию ДЗ.\n",
    "matrix_A = np.matrix([[1, 2, 1], [-2, 1, 1]])\n",
    "matrix_B = np.matrix([[3,1], [-1, 0], [2, 4]])\n",
    "matrix_C = np.matrix([[-2, 2], [1, -1], [1, 2]])"
   ]
  },
  {
   "cell_type": "code",
   "execution_count": 13,
   "id": "f877ea43",
   "metadata": {},
   "outputs": [
    {
     "name": "stdout",
     "output_type": "stream",
     "text": [
      "[[ 1 -2]\n",
      " [ 2  1]\n",
      " [ 1  1]]\n"
     ]
    }
   ],
   "source": [
    "# Транспонируем матрицу А, т.к. сложение разномерных матриц не возможно.\n",
    "matrix_A = np.transpose(matrix_A)\n",
    "print(matrix_A)"
   ]
  },
  {
   "cell_type": "code",
   "execution_count": 20,
   "id": "9e7e129f",
   "metadata": {},
   "outputs": [
    {
     "name": "stdout",
     "output_type": "stream",
     "text": [
      "[[7 0]\n",
      " [0 1]\n",
      " [5 9]]\n",
      "\n",
      "[[-1  5]\n",
      " [ 1 -2]\n",
      " [ 4  8]]\n"
     ]
    }
   ],
   "source": [
    "# Теперь можно выполнять вычисления по задаче. Результаты выводим на экран.\n",
    "result1 = matrix_A + 2 * matrix_B\n",
    "print(result1, end = \"\\n\\n\")\n",
    "result2 = matrix_B + 2 * matrix_C\n",
    "print(result2)"
   ]
  },
  {
   "cell_type": "markdown",
   "id": "327a2040",
   "metadata": {},
   "source": [
    "Задание 2."
   ]
  },
  {
   "cell_type": "code",
   "execution_count": 2,
   "id": "857de8a6",
   "metadata": {},
   "outputs": [
    {
     "name": "stdout",
     "output_type": "stream",
     "text": [
      "[[0. 1. 0. 1. 0. 1. 0. 1.]\n",
      " [1. 0. 1. 0. 1. 0. 1. 0.]\n",
      " [0. 1. 0. 1. 0. 1. 0. 1.]\n",
      " [1. 0. 1. 0. 1. 0. 1. 0.]\n",
      " [0. 1. 0. 1. 0. 1. 0. 1.]\n",
      " [1. 0. 1. 0. 1. 0. 1. 0.]\n",
      " [0. 1. 0. 1. 0. 1. 0. 1.]\n",
      " [1. 0. 1. 0. 1. 0. 1. 0.]]\n"
     ]
    }
   ],
   "source": [
    "# Создаем матрицу 8х8 со значениями согласно заданию и выводим\n",
    "matrix_zeros = np.zeros((8, 8))\n",
    "matrix_zeros[0::2, 1::2] = 1\n",
    "matrix_zeros[1::2, 0::2] = 1\n",
    "print(matrix_zeros)"
   ]
  },
  {
   "cell_type": "markdown",
   "id": "a5f0421e",
   "metadata": {},
   "source": [
    "Задание 3."
   ]
  },
  {
   "cell_type": "code",
   "execution_count": 3,
   "id": "8c1ff98c",
   "metadata": {},
   "outputs": [],
   "source": [
    "#создание 2х векторов\n",
    "vect1 = np.arange(1.5, step = 0.1)\n",
    "vect2 = np.arange(1, 7)"
   ]
  },
  {
   "cell_type": "code",
   "execution_count": 4,
   "id": "08ba3f98",
   "metadata": {},
   "outputs": [
    {
     "name": "stdout",
     "output_type": "stream",
     "text": [
      "[[0.  0.1 0.2]\n",
      " [0.3 0.4 0.5]\n",
      " [0.6 0.7 0.8]\n",
      " [0.9 1.  1.1]\n",
      " [1.2 1.3 1.4]]\n",
      "[[1 2]\n",
      " [3 4]\n",
      " [5 6]]\n"
     ]
    }
   ],
   "source": [
    "#преобразовываем векторы в матрицы и выводим их на экран\n",
    "matrix_vect1 = vect1.reshape(5, 3)\n",
    "print(matrix_vect1)\n",
    "matrix_vect2 = vect2.reshape(3, 2)\n",
    "print(matrix_vect2)"
   ]
  },
  {
   "cell_type": "code",
   "execution_count": 5,
   "id": "3334527c",
   "metadata": {},
   "outputs": [
    {
     "name": "stdout",
     "output_type": "stream",
     "text": [
      "[[ 1.3  1.6]\n",
      " [ 4.   5.2]\n",
      " [ 6.7  8.8]\n",
      " [ 9.4 12.4]\n",
      " [12.1 16. ]]\n"
     ]
    }
   ],
   "source": [
    "#перемножаем матрицы выводим результат\n",
    "result = np.matmul(matrix_vect1, matrix_vect2)\n",
    "print(result)"
   ]
  },
  {
   "cell_type": "markdown",
   "id": "7740bf39",
   "metadata": {},
   "source": [
    "Задание 4."
   ]
  },
  {
   "cell_type": "code",
   "execution_count": 25,
   "id": "0856504c",
   "metadata": {},
   "outputs": [],
   "source": [
    "# Создаем вектор размерностью 36 типа int32 c порядком 1, 3, 5, 7 и тд.\n",
    "vector = np.arange(1, 37, dtype = 'int32')\n",
    "vector_odd = vector[(vector % 2 == 1)]"
   ]
  },
  {
   "cell_type": "code",
   "execution_count": 31,
   "id": "1b0e57d4",
   "metadata": {},
   "outputs": [
    {
     "name": "stdout",
     "output_type": "stream",
     "text": [
      "Исходный вектор: [ 1  3  5  7  9 11 13 15 17 19 21 23 25 27 29 31 33 35]\n",
      "Элементы кратные трём: [ 3  9 15 21 27 33]\n"
     ]
    }
   ],
   "source": [
    "# Оставляем в нашем векторе только числа кратные 3 и выводим результат через запятую.\n",
    "result = vector_odd[(vector_odd % 3 == 0)]\n",
    "print(f\"Исходный вектор: {vector_odd}\")\n",
    "print(f\"Элементы кратные трём: {result}\")"
   ]
  },
  {
   "cell_type": "code",
   "execution_count": null,
   "id": "54dba661",
   "metadata": {},
   "outputs": [],
   "source": []
  }
 ],
 "metadata": {
  "kernelspec": {
   "display_name": "Python 3 (ipykernel)",
   "language": "python",
   "name": "python3"
  },
  "language_info": {
   "codemirror_mode": {
    "name": "ipython",
    "version": 3
   },
   "file_extension": ".py",
   "mimetype": "text/x-python",
   "name": "python",
   "nbconvert_exporter": "python",
   "pygments_lexer": "ipython3",
   "version": "3.11.3"
  }
 },
 "nbformat": 4,
 "nbformat_minor": 5
}
